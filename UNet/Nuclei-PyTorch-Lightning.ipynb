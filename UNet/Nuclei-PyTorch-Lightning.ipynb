{
 "cells": [
  {
   "cell_type": "code",
   "execution_count": 1,
   "metadata": {
    "_cell_guid": "b1076dfc-b9ad-4769-8c92-a6c4dae69d19",
    "_uuid": "8f2839f25d086af736a60e9eeb907d3b93b6e0e5",
    "execution": {
     "iopub.execute_input": "2022-01-02T15:36:59.842689Z",
     "iopub.status.busy": "2022-01-02T15:36:59.841450Z",
     "iopub.status.idle": "2022-01-02T15:36:59.850107Z",
     "shell.execute_reply": "2022-01-02T15:36:59.849184Z",
     "shell.execute_reply.started": "2022-01-02T15:36:59.842650Z"
    }
   },
   "outputs": [],
   "source": [
    "from albumentations import pytorch\n",
    "import torch\n",
    "from torch.utils.data import DataLoader, Dataset, random_split\n",
    "import torch.nn as nn\n",
    "import torch.nn.functional as F\n",
    "import torch.optim as optim\n",
    "from torchvision.transforms import CenterCrop\n",
    "\n",
    "import numpy as np\n",
    "from cv2 import cv2, transform\n",
    "import matplotlib.pyplot as plt\n",
    "from tqdm import tqdm\n",
    "import albumentations as A\n",
    "from albumentations.pytorch import ToTensorV2\n",
    "\n",
    "import pytorch_lightning as pl\n",
    "from pathlib import Path\n",
    "\n",
    "from UNet import UNet_2"
   ]
  },
  {
   "cell_type": "code",
   "execution_count": 2,
   "metadata": {
    "execution": {
     "iopub.execute_input": "2022-01-02T15:36:59.851753Z",
     "iopub.status.busy": "2022-01-02T15:36:59.851420Z",
     "iopub.status.idle": "2022-01-02T15:36:59.859260Z",
     "shell.execute_reply": "2022-01-02T15:36:59.858440Z",
     "shell.execute_reply.started": "2022-01-02T15:36:59.851715Z"
    }
   },
   "outputs": [],
   "source": [
    "BATCH_SIZE = 8"
   ]
  },
  {
   "cell_type": "code",
   "execution_count": 3,
   "metadata": {
    "execution": {
     "iopub.execute_input": "2022-01-02T15:37:00.017291Z",
     "iopub.status.busy": "2022-01-02T15:37:00.016725Z",
     "iopub.status.idle": "2022-01-02T15:37:00.035762Z",
     "shell.execute_reply": "2022-01-02T15:37:00.035098Z",
     "shell.execute_reply.started": "2022-01-02T15:37:00.017257Z"
    }
   },
   "outputs": [],
   "source": [
    "class NucleiData(Dataset):\n",
    "    def __init__(\n",
    "        self, data_dir=\"./data-science-bowl-2018/stage1_train\", transforms=None\n",
    "    ):\n",
    "        train_dir = Path(data_dir)\n",
    "        self.images = list(train_dir.glob(\"*/images/*.png\"))\n",
    "        self.masks = list(train_dir.glob(\"*/masks/*.*\"))\n",
    "        self.transforms = transforms\n",
    "\n",
    "    def __getitem__(self, idx):\n",
    "        image = cv2.imread(self.images[idx].as_posix(), cv2.IMREAD_COLOR)\n",
    "        mask = self.get_mask(self.images[idx].parent.parent.glob(\"masks/*.*\"))\n",
    "\n",
    "        if self.transforms is not None:\n",
    "            transform = self.transforms(image=image)\n",
    "        \n",
    "        transformed_image = transform[\"image\"]\n",
    "        transformed_mask = ToTensorV2()(image=mask)\n",
    "\n",
    "        return transformed_image, transformed_mask['image']\n",
    "\n",
    "    def get_mask(self, masks_gen):\n",
    "        H, W = 256, 256\n",
    "        target_mask = np.zeros((H, W, 1), dtype=np.uint8)\n",
    "        for mask in masks_gen:\n",
    "            curr_mask = cv2.imread(mask.as_posix(), cv2.IMREAD_GRAYSCALE)\n",
    "            transform = A.Resize(height=H, width=W)(image=curr_mask)\n",
    "            mask_ = np.expand_dims(transform[\"image\"], axis=-1)\n",
    "            target_mask = np.maximum(target_mask, mask_)\n",
    "        return target_mask\n",
    "\n",
    "    def __len__(self):\n",
    "        return len(self.images)\n",
    "\n",
    "\n",
    "class NucleiDataModule(pl.LightningDataModule):\n",
    "    def __init__(self):\n",
    "        super().__init__()\n",
    "        self.image_transforms = A.Compose(\n",
    "            [A.Resize(256, 256), A.Normalize(), A.pytorch.ToTensorV2()]\n",
    "        )\n",
    "        self.dims = (3, 256, 256)\n",
    "\n",
    "    def setup(self, stage) -> None:\n",
    "        if stage == \"fit\" or stage is None:\n",
    "            data = NucleiData(transforms=self.image_transforms)\n",
    "            lengths = [int(len(data) * 0.8), int(len(data) * 0.2)]\n",
    "            self.train_data, self.val_data = random_split(data, lengths)\n",
    "\n",
    "    def train_dataloader(self):\n",
    "        return DataLoader(self.train_data, batch_size=BATCH_SIZE, num_workers=8)\n",
    "\n",
    "    def val_dataloader(self):\n",
    "        return DataLoader(self.val_data, batch_size=BATCH_SIZE, num_workers=8)\n",
    "\n",
    "class LitNuclei(pl.LightningModule):\n",
    "    def __init__(self):\n",
    "        super(LitNuclei, self).__init__()\n",
    "        self.model = UNet_2(3, 1)\n",
    "        self.loss = nn.BCEWithLogitsLoss()\n",
    "        \n",
    "    def configure_optimizers(self):\n",
    "        return optim.Adam(self.model.parameters())\n",
    "    \n",
    "    def forward(self, x):\n",
    "        return self.model(x)\n",
    "    \n",
    "    def training_step(self, batch, batch_idx):\n",
    "        image, mask = batch\n",
    "        \n",
    "        preds = self.forward(image)\n",
    "        \n",
    "        loss = F.binary_cross_entropy_with_logits(\n",
    "            input=preds, target=mask.float()\n",
    "        )\n",
    "        \n",
    "        self.log('train_loss', loss)\n",
    "        \n",
    "        return loss\n",
    "    \n",
    "    def validation_step(self, batch, batch_idx):\n",
    "        image, mask = batch\n",
    "        \n",
    "        preds = self.forward(image)\n",
    "        \n",
    "        loss = F.binary_cross_entropy_with_logits(\n",
    "            input=preds, target=mask.float()\n",
    "        )\n",
    "        \n",
    "        self.log('val_loss', loss)\n",
    "        \n",
    "        return loss"
   ]
  },
  {
   "cell_type": "code",
   "execution_count": null,
   "metadata": {
    "execution": {
     "iopub.execute_input": "2022-01-02T15:37:00.037997Z",
     "iopub.status.busy": "2022-01-02T15:37:00.037700Z",
     "iopub.status.idle": "2022-01-02T15:40:50.698157Z",
     "shell.execute_reply": "2022-01-02T15:40:50.697379Z",
     "shell.execute_reply.started": "2022-01-02T15:37:00.037964Z"
    },
    "scrolled": false
   },
   "outputs": [
    {
     "name": "stderr",
     "output_type": "stream",
     "text": [
      "GPU available: True, used: True\n",
      "TPU available: False, using: 0 TPU cores\n",
      "IPU available: False, using: 0 IPUs\n",
      "LOCAL_RANK: 0 - CUDA_VISIBLE_DEVICES: [0]\n",
      "\n",
      "  | Name  | Type              | Params\n",
      "--------------------------------------------\n",
      "0 | model | UNet_2            | 31.0 M\n",
      "1 | loss  | BCEWithLogitsLoss | 0     \n",
      "--------------------------------------------\n",
      "31.0 M    Trainable params\n",
      "0         Non-trainable params\n",
      "31.0 M    Total params\n",
      "124.127   Total estimated model params size (MB)\n"
     ]
    },
    {
     "data": {
      "application/vnd.jupyter.widget-view+json": {
       "model_id": "7f6cfec321004d469a23e488c09cb914",
       "version_major": 2,
       "version_minor": 0
      },
      "text/plain": [
       "Validation sanity check: 0it [00:00, ?it/s]"
      ]
     },
     "metadata": {},
     "output_type": "display_data"
    }
   ],
   "source": [
    "model = LitNuclei()\n",
    "dm = NucleiDataModule()\n",
    "\n",
    "trainer = pl.Trainer(\n",
    "    checkpoint_callback=True,\n",
    "    logger=True,\n",
    "    max_epochs=1, gpus=1, \n",
    ")\n",
    "\n",
    "trainer.fit(model, datamodule=dm)"
   ]
  },
  {
   "cell_type": "code",
   "execution_count": null,
   "metadata": {},
   "outputs": [],
   "source": []
  }
 ],
 "metadata": {
  "kernelspec": {
   "display_name": "Python 3",
   "language": "python",
   "name": "python3"
  },
  "language_info": {
   "codemirror_mode": {
    "name": "ipython",
    "version": 3
   },
   "file_extension": ".py",
   "mimetype": "text/x-python",
   "name": "python",
   "nbconvert_exporter": "python",
   "pygments_lexer": "ipython3",
   "version": "3.8.8"
  },
  "toc": {
   "base_numbering": 1,
   "nav_menu": {},
   "number_sections": true,
   "sideBar": true,
   "skip_h1_title": false,
   "title_cell": "Table of Contents",
   "title_sidebar": "Contents",
   "toc_cell": false,
   "toc_position": {},
   "toc_section_display": true,
   "toc_window_display": false
  }
 },
 "nbformat": 4,
 "nbformat_minor": 4
}
